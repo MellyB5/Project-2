{
 "cells": [
  {
   "cell_type": "code",
   "execution_count": 1,
   "metadata": {},
   "outputs": [],
   "source": [
    "import pandas as pd"
   ]
  },
  {
   "cell_type": "code",
   "execution_count": 2,
   "metadata": {},
   "outputs": [],
   "source": [
    "respiratory_disease = pd.read_excel(\n",
    "    'static/data/NSW_ED_presentations.xlsx', \n",
    "    sheet_name='respiratory_disease',\n",
    "    header=0)\n",
    "\n",
    "asthma = pd.read_excel(\n",
    "    'static/data/NSW_ED_presentations.xlsx', \n",
    "    sheet_name='asthma',\n",
    "    header=0)\n",
    "\n",
    "cv_disease = pd.read_excel(\n",
    "    'static/data/NSW_ED_presentations.xlsx', \n",
    "    sheet_name='cv_disease',\n",
    "    header=0)\n",
    "\n",
    "acute_mi = pd.read_excel(\n",
    "    'static/data/NSW_ED_presentations.xlsx', \n",
    "    sheet_name='acute_mi',\n",
    "    header=0)\n",
    "\n",
    "cerebro_v_disease = pd.read_excel(\n",
    "    'static/data/NSW_ED_presentations.xlsx', \n",
    "    sheet_name='cerebro_v_disease',\n",
    "    header=0)\n",
    "\n",
    "mental = pd.read_excel(\n",
    "    'static/data/NSW_ED_presentations.xlsx', \n",
    "    sheet_name='mental',\n",
    "    header=0)\n",
    "\n",
    "chest_pain = pd.read_excel(\n",
    "    'static/data/NSW_ED_presentations.xlsx', \n",
    "    sheet_name='chest_pain',\n",
    "    header=0)\n",
    "\n",
    "breathing_abnormalities = pd.read_excel(\n",
    "    'static/data/NSW_ED_presentations.xlsx', \n",
    "    sheet_name='breathing_abnormalities',\n",
    "    header=0)\n",
    "\n",
    "copd_exacerbation = pd.read_excel(\n",
    "    'static/data/NSW_ED_presentations.xlsx', \n",
    "    sheet_name='copd_exacerbation',\n",
    "    header=0)\n",
    "\n",
    "inhaler_sales = pd.read_excel(\n",
    "    'static/data/NSW_ED_presentations.xlsx', \n",
    "    sheet_name='inhaler_sales',\n",
    "    header=0)"
   ]
  },
  {
   "cell_type": "code",
   "execution_count": 3,
   "metadata": {},
   "outputs": [],
   "source": [
    "respiratory_disease[\"Week\"] = respiratory_disease['Week'].dt.strftime('%d-%b')\n",
    "respiratory_disease.to_csv(\"static/data/respiratory_disease.csv\", index=False)"
   ]
  },
  {
   "cell_type": "code",
   "execution_count": 4,
   "metadata": {},
   "outputs": [],
   "source": [
    "asthma[\"Week\"] = asthma['Week'].dt.strftime('%d-%b')\n",
    "asthma.to_csv(\"static/data/asthma.csv\", index=False)"
   ]
  },
  {
   "cell_type": "code",
   "execution_count": 5,
   "metadata": {},
   "outputs": [],
   "source": [
    "cv_disease[\"Week\"] = cv_disease['Week'].dt.strftime('%d-%b')\n",
    "cv_disease.to_csv(\"static/data/cv_disease.csv\", index=False)"
   ]
  },
  {
   "cell_type": "code",
   "execution_count": 6,
   "metadata": {},
   "outputs": [],
   "source": [
    "acute_mi[\"Week\"] = acute_mi['Week'].dt.strftime('%d-%b')\n",
    "acute_mi.to_csv(\"static/data/acute_mi.csv\", index=False)"
   ]
  },
  {
   "cell_type": "code",
   "execution_count": 7,
   "metadata": {},
   "outputs": [],
   "source": [
    "cerebro_v_disease[\"Week\"] = cerebro_v_disease['Week'].dt.strftime('%d-%b')\n",
    "cerebro_v_disease.to_csv(\"static/data/cerebro_v_disease.csv\", index=False)"
   ]
  },
  {
   "cell_type": "code",
   "execution_count": 8,
   "metadata": {},
   "outputs": [],
   "source": [
    "mental[\"Week\"] = mental['Week'].dt.strftime('%d-%b')\n",
    "mental.to_csv(\"static/data/mental.csv\", index=False)"
   ]
  },
  {
   "cell_type": "code",
   "execution_count": 9,
   "metadata": {},
   "outputs": [],
   "source": [
    "chest_pain[\"Week\"] = chest_pain['Week'].dt.strftime('%d-%b')\n",
    "chest_pain.to_csv(\"static/data/chest_pain.csv\", index=False)"
   ]
  },
  {
   "cell_type": "code",
   "execution_count": 10,
   "metadata": {},
   "outputs": [],
   "source": [
    "breathing_abnormalities[\"Week\"] = breathing_abnormalities['Week'].dt.strftime('%d-%b')\n",
    "breathing_abnormalities.to_csv(\"static/data/breathing_abnormalities.csv\", index=False)"
   ]
  },
  {
   "cell_type": "code",
   "execution_count": 11,
   "metadata": {},
   "outputs": [],
   "source": [
    "copd_exacerbation[\"Week\"] = copd_exacerbation['Week'].dt.strftime('%d-%b')\n",
    "copd_exacerbation.to_csv(\"static/data/copd_exacerbation.csv\", index=False)"
   ]
  },
  {
   "cell_type": "code",
   "execution_count": 12,
   "metadata": {},
   "outputs": [],
   "source": [
    "inhaler_sales[\"Week\"] = inhaler_sales['Week'].dt.strftime('%d-%b')\n",
    "inhaler_sales.to_csv(\"static/data/inhaler_sales.csv\", index=False)"
   ]
  }
 ],
 "metadata": {
  "interpreter": {
   "hash": "2e866f0e2aa140c3884bc029dbe31d56837afa270cbfff6f5c57dbc7b48b8e98"
  },
  "kernelspec": {
   "display_name": "Python 3.8.11 64-bit ('base': conda)",
   "name": "python3"
  },
  "language_info": {
   "codemirror_mode": {
    "name": "ipython",
    "version": 3
   },
   "file_extension": ".py",
   "mimetype": "text/x-python",
   "name": "python",
   "nbconvert_exporter": "python",
   "pygments_lexer": "ipython3",
   "version": "3.8.11"
  },
  "orig_nbformat": 4
 },
 "nbformat": 4,
 "nbformat_minor": 2
}
