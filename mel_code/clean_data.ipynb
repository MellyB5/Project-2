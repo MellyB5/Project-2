{
 "cells": [
  {
   "cell_type": "code",
   "execution_count": 48,
   "metadata": {},
   "outputs": [],
   "source": [
    "import pandas as pd"
   ]
  },
  {
   "cell_type": "code",
   "execution_count": 50,
   "metadata": {},
   "outputs": [],
   "source": [
    "respiratory_disease = pd.read_excel(\n",
    "    'assets/NSW_ED_presentations.xlsx', \n",
    "    sheet_name='respiratory_disease',\n",
    "    header=0)\n",
    "\n",
    "asthma = pd.read_excel(\n",
    "    'assets/NSW_ED_presentations.xlsx', \n",
    "    sheet_name='asthma',\n",
    "    header=0)\n",
    "\n",
    "cv_disease = pd.read_excel(\n",
    "    'assets/NSW_ED_presentations.xlsx', \n",
    "    sheet_name='cv_disease',\n",
    "    header=0)\n",
    "\n",
    "acute_mi = pd.read_excel(\n",
    "    'assets/NSW_ED_presentations.xlsx', \n",
    "    sheet_name='acute_mi',\n",
    "    header=0)\n",
    "\n",
    "cerebro_v_disease = pd.read_excel(\n",
    "    'assets/NSW_ED_presentations.xlsx', \n",
    "    sheet_name='cerebro_v_disease',\n",
    "    header=0)\n",
    "\n",
    "mental = pd.read_excel(\n",
    "    'assets/NSW_ED_presentations.xlsx', \n",
    "    sheet_name='mental',\n",
    "    header=0)\n",
    "\n",
    "chest_pain = pd.read_excel(\n",
    "    'assets/NSW_ED_presentations.xlsx', \n",
    "    sheet_name='chest_pain',\n",
    "    header=0)\n",
    "\n",
    "breathing_abnormalities = pd.read_excel(\n",
    "    'assets/NSW_ED_presentations.xlsx', \n",
    "    sheet_name='breathing_abnormalities',\n",
    "    header=0)\n",
    "\n",
    "copd_exacerbation = pd.read_excel(\n",
    "    'assets/NSW_ED_presentations.xlsx', \n",
    "    sheet_name='copd_exacerbation',\n",
    "    header=0)\n",
    "\n",
    "inhaler_sales = pd.read_excel(\n",
    "    'assets/NSW_ED_presentations.xlsx', \n",
    "    sheet_name='inhaler_sales',\n",
    "    header=0)"
   ]
  },
  {
   "cell_type": "code",
   "execution_count": 51,
   "metadata": {},
   "outputs": [],
   "source": [
    "respiratory_disease[\"Week\"] = respiratory_disease['Week'].dt.strftime('%d-%b')\n",
    "respiratory_disease.to_csv(\"assets/respiratory_disease.csv\", index=False)"
   ]
  },
  {
   "cell_type": "code",
   "execution_count": 52,
   "metadata": {},
   "outputs": [],
   "source": [
    "asthma[\"Week\"] = asthma['Week'].dt.strftime('%d-%b')\n",
    "asthma.to_csv(\"assets/asthma.csv\", index=False)"
   ]
  },
  {
   "cell_type": "code",
   "execution_count": null,
   "metadata": {},
   "outputs": [],
   "source": [
    "cv_disease[\"Week\"] = cv_disease['Week'].dt.strftime('%d-%b')\n",
    "cv_disease.to_csv(\"assets/cv_disease.csv\", index=False)"
   ]
  },
  {
   "cell_type": "code",
   "execution_count": 55,
   "metadata": {},
   "outputs": [],
   "source": [
    "acute_mi[\"Week\"] = acute_mi['Week'].dt.strftime('%d-%b')\n",
    "acute_mi.to_csv(\"assets/acute_mi.csv\", index=False)"
   ]
  },
  {
   "cell_type": "code",
   "execution_count": 56,
   "metadata": {},
   "outputs": [],
   "source": [
    "cerebro_v_disease[\"Week\"] = cerebro_v_disease['Week'].dt.strftime('%d-%b')\n",
    "cerebro_v_disease.to_csv(\"assets/cerebro_v_disease.csv\", index=False)"
   ]
  },
  {
   "cell_type": "code",
   "execution_count": 57,
   "metadata": {},
   "outputs": [],
   "source": [
    "mental[\"Week\"] = mental['Week'].dt.strftime('%d-%b')\n",
    "mental.to_csv(\"assets/mental.csv\", index=False)"
   ]
  },
  {
   "cell_type": "code",
   "execution_count": 58,
   "metadata": {},
   "outputs": [],
   "source": [
    "chest_pain[\"Week\"] = chest_pain['Week'].dt.strftime('%d-%b')\n",
    "chest_pain.to_csv(\"assets/chest_pain.csv\", index=False)"
   ]
  },
  {
   "cell_type": "code",
   "execution_count": 59,
   "metadata": {},
   "outputs": [],
   "source": [
    "breathing_abnormalities[\"Week\"] = breathing_abnormalities['Week'].dt.strftime('%d-%b')\n",
    "breathing_abnormalities.to_csv(\"assets/breathing_abnormalities.csv\", index=False)"
   ]
  },
  {
   "cell_type": "code",
   "execution_count": 60,
   "metadata": {},
   "outputs": [],
   "source": [
    "copd_exacerbation[\"Week\"] = copd_exacerbation['Week'].dt.strftime('%d-%b')\n",
    "copd_exacerbation.to_csv(\"assets/copd_exacerbation.csv\", index=False)"
   ]
  },
  {
   "cell_type": "code",
   "execution_count": 61,
   "metadata": {},
   "outputs": [],
   "source": [
    "inhaler_sales[\"Week\"] = inhaler_sales['Week'].dt.strftime('%d-%b')\n",
    "inhaler_sales.to_csv(\"assets/inhaler_sales.csv\", index=False)"
   ]
  }
 ],
 "metadata": {
  "interpreter": {
   "hash": "44819769b05112f27f93e424f8d134f22b8c83bbe7dc0548c3d5a98b45ca673a"
  },
  "kernelspec": {
   "display_name": "Python 3.7.11 64-bit ('PythonData': conda)",
   "name": "python3"
  },
  "language_info": {
   "codemirror_mode": {
    "name": "ipython",
    "version": 3
   },
   "file_extension": ".py",
   "mimetype": "text/x-python",
   "name": "python",
   "nbconvert_exporter": "python",
   "pygments_lexer": "ipython3",
   "version": "3.7.11"
  },
  "orig_nbformat": 4
 },
 "nbformat": 4,
 "nbformat_minor": 2
}
